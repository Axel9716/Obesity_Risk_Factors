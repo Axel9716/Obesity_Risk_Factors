{
 "cells": [
  {
   "cell_type": "markdown",
   "id": "87037bd0",
   "metadata": {},
   "source": [
    "Alex Ptacek \n",
    "\n",
    "Data 602 - Final Project Proposal\n",
    "\n",
    "1. Research Question  \n",
    "\n",
    "Is there a relationship between obesity and demographics? If so, how has this changed over time? What other factors affect obesity rates? The dataset I will be using for this project contains predicted U.S. yearly obesity rates by State, as well as diet and physical activity behaviors. The data also contains demographic info, such as race, gender, age, income, and more. I will be checking all variables for potential relationships with obesity. \n",
    "\n",
    "2. Justification - why is this relevant to you or industry?  \n",
    "Overall, I believe this study may yield useful information for two groups: certain companies and all individuals. At the individual level, it is not only interesting, but also important for everyone to better understand risk factors for obesity, which itself is known as a significant risk factor for many health conditions. This study may also inform individuals about potential changes they can make to their lifestyle to reduce risk of obesity.  \n",
    "This study may also be valuable to certain companies, particularly in health-related industries. For example, fitness companies (e.g. gyms, workout gear, health blogs, etc.) may want to target people who are struggling with obesity, and the results of this study may help them piece together and understand those audiences. \n",
    "\n",
    "3. Data Sources - did you find this data online or collect yourself? Provide links.  \n",
    "This data was published by the U.S. Centers for Disease Control and Prevention (CDC) and can be found on the DATA.gov website: \n",
    "https://catalog.data.gov/dataset/nutrition-physical-activity-and-obesity-behavioral-risk-factor-surveillance-system \n",
    "\n",
    "4. Libraries potentially being used.  \n",
    "\t•\tNumpy & Pandas: These packages are used together for data wrangling in a tabular structure, which will be integral for this project. \n",
    "\t•\tMatplotlib: This will be important for data visualizations. \n",
    "\t•\tScikit-learn: This project may include some machine learning models, if appropriate. \n",
    "\n",
    "5. EDA and summary statistics. "
   ]
  }
 ],
 "metadata": {
  "language_info": {
   "name": "python"
  }
 },
 "nbformat": 4,
 "nbformat_minor": 5
}
